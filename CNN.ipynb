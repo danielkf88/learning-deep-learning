{
 "cells": [
  {
   "attachments": {},
   "cell_type": "markdown",
   "metadata": {},
   "source": [
    "#Part 1 - Data Preprocessing"
   ]
  },
  {
   "cell_type": "code",
   "execution_count": 1,
   "metadata": {},
   "outputs": [],
   "source": [
    "import tensorflow as tf\n",
    "from keras.preprocessing.image import ImageDataGenerator"
   ]
  },
  {
   "cell_type": "code",
   "execution_count": 2,
   "metadata": {},
   "outputs": [
    {
     "data": {
      "text/plain": [
       "'2.11.0'"
      ]
     },
     "execution_count": 2,
     "metadata": {},
     "output_type": "execute_result"
    }
   ],
   "source": [
    "tf.__version__"
   ]
  },
  {
   "attachments": {},
   "cell_type": "markdown",
   "metadata": {},
   "source": [
    "Preprocessing the Training set"
   ]
  },
  {
   "cell_type": "code",
   "execution_count": 3,
   "metadata": {},
   "outputs": [
    {
     "name": "stdout",
     "output_type": "stream",
     "text": [
      "Found 8000 images belonging to 2 classes.\n"
     ]
    }
   ],
   "source": [
    "# augmenting the images from the training set\n",
    "train_datagen = ImageDataGenerator(\n",
    "                    rescale = 1./255,\n",
    "                    shear_range = 0.2,\n",
    "                    zoom_range = 0.2,\n",
    "                    horizontal_flip = True)\n",
    "\n",
    "train_set = train_datagen.flow_from_directory(\n",
    "                    'dataset/training_set',\n",
    "                    target_size = (64, 64),\n",
    "                    batch_size = 32,\n",
    "                    class_mode = 'binary')"
   ]
  },
  {
   "attachments": {},
   "cell_type": "markdown",
   "metadata": {},
   "source": [
    "Preprocessing the Test set"
   ]
  },
  {
   "cell_type": "code",
   "execution_count": 4,
   "metadata": {},
   "outputs": [
    {
     "name": "stdout",
     "output_type": "stream",
     "text": [
      "Found 2000 images belonging to 2 classes.\n"
     ]
    }
   ],
   "source": [
    "# no need to augment the test set\n",
    "test_datagen = ImageDataGenerator(rescale = 1./255)\n",
    "test_set = test_datagen.flow_from_directory(\n",
    "                    'dataset/test_set',\n",
    "                    target_size = (64, 64),\n",
    "                    batch_size = 32,\n",
    "                    class_mode = 'binary')"
   ]
  },
  {
   "attachments": {},
   "cell_type": "markdown",
   "metadata": {},
   "source": [
    "#Part 2 - Building the CNN"
   ]
  },
  {
   "attachments": {},
   "cell_type": "markdown",
   "metadata": {},
   "source": [
    "Initialising the CNN"
   ]
  },
  {
   "cell_type": "code",
   "execution_count": 5,
   "metadata": {},
   "outputs": [],
   "source": [
    "cnn = tf.keras.models.Sequential()"
   ]
  },
  {
   "attachments": {},
   "cell_type": "markdown",
   "metadata": {},
   "source": [
    "Step 1 - Convolution"
   ]
  },
  {
   "cell_type": "code",
   "execution_count": 6,
   "metadata": {},
   "outputs": [],
   "source": [
    "# filtering layers with 32 filters of size 3x3\n",
    "cnn.add(tf.keras.layers.Conv2D(filters=32 , \n",
    "                               kernel_size=3 ,\n",
    "                               activation='relu',\n",
    "                               input_shape=[64, 64, 3],\n",
    "                               ))"
   ]
  },
  {
   "attachments": {},
   "cell_type": "markdown",
   "metadata": {},
   "source": [
    "Step 2 - Pooling"
   ]
  },
  {
   "cell_type": "code",
   "execution_count": 7,
   "metadata": {},
   "outputs": [],
   "source": [
    "# pooling layer to reduce the size of the feature maps\n",
    "cnn.add(tf.keras.layers.MaxPool2D(pool_size=2, strides=2))"
   ]
  },
  {
   "attachments": {},
   "cell_type": "markdown",
   "metadata": {},
   "source": [
    "Adding a second convolutional layer"
   ]
  },
  {
   "cell_type": "code",
   "execution_count": 8,
   "metadata": {},
   "outputs": [],
   "source": [
    "# adding a second convolutional layer, no need to specify the input shape\n",
    "cnn.add(tf.keras.layers.Conv2D(filters=32 , \n",
    "                               kernel_size=3 ,\n",
    "                               activation='relu',\n",
    "                               ))\n",
    "cnn.add(tf.keras.layers.MaxPool2D(pool_size=2, strides=2))"
   ]
  },
  {
   "attachments": {},
   "cell_type": "markdown",
   "metadata": {},
   "source": [
    "Step 3 - Flattening"
   ]
  },
  {
   "cell_type": "code",
   "execution_count": 9,
   "metadata": {},
   "outputs": [],
   "source": [
    "cnn.add(tf.keras.layers.Flatten())"
   ]
  },
  {
   "attachments": {},
   "cell_type": "markdown",
   "metadata": {},
   "source": [
    "Step 4 - Full Connection"
   ]
  },
  {
   "cell_type": "code",
   "execution_count": 10,
   "metadata": {},
   "outputs": [],
   "source": [
    "cnn.add(tf.keras.layers.Dense(units=128, activation='relu'))"
   ]
  },
  {
   "attachments": {},
   "cell_type": "markdown",
   "metadata": {},
   "source": [
    "Step 5 - Output Layer"
   ]
  },
  {
   "cell_type": "code",
   "execution_count": 11,
   "metadata": {},
   "outputs": [],
   "source": [
    "cnn.add(tf.keras.layers.Dense(units=1, activation='sigmoid'))"
   ]
  },
  {
   "attachments": {},
   "cell_type": "markdown",
   "metadata": {},
   "source": [
    "#Part 3 - Training the CNN"
   ]
  },
  {
   "attachments": {},
   "cell_type": "markdown",
   "metadata": {},
   "source": [
    "Compiling the CNN"
   ]
  },
  {
   "cell_type": "code",
   "execution_count": 12,
   "metadata": {},
   "outputs": [],
   "source": [
    "cnn.compile(optimizer='adam', loss='binary_crossentropy', metrics=['accuracy'])"
   ]
  },
  {
   "attachments": {},
   "cell_type": "markdown",
   "metadata": {},
   "source": [
    "Training the CNN on the Training set and evaluating it on the Test set"
   ]
  },
  {
   "cell_type": "code",
   "execution_count": 15,
   "metadata": {},
   "outputs": [
    {
     "name": "stdout",
     "output_type": "stream",
     "text": [
      "Epoch 1/25\n",
      "250/250 [==============================] - 103s 409ms/step - loss: 0.6744 - accuracy: 0.5765 - val_loss: 0.6562 - val_accuracy: 0.6265\n",
      "Epoch 2/25\n",
      "250/250 [==============================] - 29s 116ms/step - loss: 0.6262 - accuracy: 0.6520 - val_loss: 0.6075 - val_accuracy: 0.6705\n",
      "Epoch 3/25\n",
      "250/250 [==============================] - 28s 113ms/step - loss: 0.5641 - accuracy: 0.7092 - val_loss: 0.5537 - val_accuracy: 0.7215\n",
      "Epoch 4/25\n",
      "250/250 [==============================] - 28s 113ms/step - loss: 0.5264 - accuracy: 0.7401 - val_loss: 0.5092 - val_accuracy: 0.7495\n",
      "Epoch 5/25\n",
      "250/250 [==============================] - 28s 113ms/step - loss: 0.5054 - accuracy: 0.7535 - val_loss: 0.4916 - val_accuracy: 0.7705\n",
      "Epoch 6/25\n",
      "250/250 [==============================] - 28s 112ms/step - loss: 0.4861 - accuracy: 0.7625 - val_loss: 0.4842 - val_accuracy: 0.7705\n",
      "Epoch 7/25\n",
      "250/250 [==============================] - 29s 114ms/step - loss: 0.4610 - accuracy: 0.7794 - val_loss: 0.6128 - val_accuracy: 0.7175\n",
      "Epoch 8/25\n",
      "250/250 [==============================] - 33s 133ms/step - loss: 0.4450 - accuracy: 0.7883 - val_loss: 0.4620 - val_accuracy: 0.7850\n",
      "Epoch 9/25\n",
      "250/250 [==============================] - 35s 142ms/step - loss: 0.4319 - accuracy: 0.7954 - val_loss: 0.4555 - val_accuracy: 0.7885\n",
      "Epoch 10/25\n",
      "250/250 [==============================] - 80s 319ms/step - loss: 0.4189 - accuracy: 0.8050 - val_loss: 0.4584 - val_accuracy: 0.7900\n",
      "Epoch 11/25\n",
      "250/250 [==============================] - 39s 154ms/step - loss: 0.3991 - accuracy: 0.8173 - val_loss: 0.4796 - val_accuracy: 0.7795\n",
      "Epoch 12/25\n",
      "250/250 [==============================] - 29s 117ms/step - loss: 0.3866 - accuracy: 0.8229 - val_loss: 0.4780 - val_accuracy: 0.7870\n",
      "Epoch 13/25\n",
      "250/250 [==============================] - 29s 114ms/step - loss: 0.3780 - accuracy: 0.8281 - val_loss: 0.4727 - val_accuracy: 0.7885\n",
      "Epoch 14/25\n",
      "250/250 [==============================] - 28s 114ms/step - loss: 0.3565 - accuracy: 0.8378 - val_loss: 0.4536 - val_accuracy: 0.8075\n",
      "Epoch 15/25\n",
      "250/250 [==============================] - 28s 113ms/step - loss: 0.3305 - accuracy: 0.8565 - val_loss: 0.4561 - val_accuracy: 0.8075\n",
      "Epoch 16/25\n",
      "250/250 [==============================] - 28s 114ms/step - loss: 0.3259 - accuracy: 0.8537 - val_loss: 0.4624 - val_accuracy: 0.8065\n",
      "Epoch 17/25\n",
      "250/250 [==============================] - 28s 112ms/step - loss: 0.3109 - accuracy: 0.8633 - val_loss: 0.4571 - val_accuracy: 0.8075\n",
      "Epoch 18/25\n",
      "250/250 [==============================] - 28s 114ms/step - loss: 0.2954 - accuracy: 0.8741 - val_loss: 0.4907 - val_accuracy: 0.7985\n",
      "Epoch 19/25\n",
      "250/250 [==============================] - 28s 113ms/step - loss: 0.2804 - accuracy: 0.8801 - val_loss: 0.5239 - val_accuracy: 0.7865\n",
      "Epoch 20/25\n",
      "250/250 [==============================] - 28s 112ms/step - loss: 0.2670 - accuracy: 0.8823 - val_loss: 0.5108 - val_accuracy: 0.8000\n",
      "Epoch 21/25\n",
      "250/250 [==============================] - 28s 114ms/step - loss: 0.2523 - accuracy: 0.8934 - val_loss: 0.5598 - val_accuracy: 0.7890\n",
      "Epoch 22/25\n",
      "250/250 [==============================] - 28s 113ms/step - loss: 0.2390 - accuracy: 0.8988 - val_loss: 0.4896 - val_accuracy: 0.8055\n",
      "Epoch 23/25\n",
      "250/250 [==============================] - 28s 114ms/step - loss: 0.2363 - accuracy: 0.9055 - val_loss: 0.4753 - val_accuracy: 0.8195\n",
      "Epoch 24/25\n",
      "250/250 [==============================] - 28s 113ms/step - loss: 0.2174 - accuracy: 0.9137 - val_loss: 0.5491 - val_accuracy: 0.8145\n",
      "Epoch 25/25\n",
      "250/250 [==============================] - 28s 112ms/step - loss: 0.2141 - accuracy: 0.9115 - val_loss: 0.5363 - val_accuracy: 0.8055\n"
     ]
    },
    {
     "data": {
      "text/plain": [
       "<keras.callbacks.History at 0x234a240c100>"
      ]
     },
     "execution_count": 15,
     "metadata": {},
     "output_type": "execute_result"
    }
   ],
   "source": [
    "cnn.fit(train_set, validation_data=test_set, epochs=25)"
   ]
  },
  {
   "attachments": {},
   "cell_type": "markdown",
   "metadata": {},
   "source": [
    "Part 4 - Making a single prediction\n",
    "prediction 1"
   ]
  },
  {
   "cell_type": "code",
   "execution_count": 18,
   "metadata": {},
   "outputs": [],
   "source": [
    "# import library\n",
    "import numpy as np\n",
    "import keras.utils as image"
   ]
  },
  {
   "cell_type": "code",
   "execution_count": 19,
   "metadata": {},
   "outputs": [],
   "source": [
    "# load test image\n",
    "test_image = image.load_img('dataset/single_prediction/cat_or_dog_1.jpg', target_size=(64, 64))\n",
    "\n",
    "# flatten the image\n",
    "test_image = image.img_to_array(test_image)\n",
    "\n",
    "# as cnn is train using batches, test_image's dimmmension have to increase to match train_set, by insert in one dimension to the front.\n",
    "test_image = np.expand_dims(test_image, axis=0)"
   ]
  },
  {
   "cell_type": "code",
   "execution_count": 20,
   "metadata": {},
   "outputs": [
    {
     "name": "stdout",
     "output_type": "stream",
     "text": [
      "1/1 [==============================] - 0s 115ms/step\n"
     ]
    },
    {
     "data": {
      "text/plain": [
       "{'cats': 0, 'dogs': 1}"
      ]
     },
     "execution_count": 20,
     "metadata": {},
     "output_type": "execute_result"
    }
   ],
   "source": [
    "results = cnn.predict(test_image)\n",
    "train_set.class_indices"
   ]
  },
  {
   "cell_type": "code",
   "execution_count": 21,
   "metadata": {},
   "outputs": [],
   "source": [
    "if results == 1:\n",
    "    prediction = 'dog'\n",
    "else:\n",
    "    Prediction = 'cat'"
   ]
  },
  {
   "cell_type": "code",
   "execution_count": 22,
   "metadata": {},
   "outputs": [
    {
     "data": {
      "text/plain": [
       "'dog'"
      ]
     },
     "execution_count": 22,
     "metadata": {},
     "output_type": "execute_result"
    }
   ],
   "source": [
    "prediction"
   ]
  },
  {
   "cell_type": "markdown",
   "metadata": {},
   "source": [
    "prediction 2"
   ]
  },
  {
   "cell_type": "code",
   "execution_count": 27,
   "metadata": {},
   "outputs": [
    {
     "name": "stdout",
     "output_type": "stream",
     "text": [
      "1/1 [==============================] - 0s 20ms/step\n"
     ]
    },
    {
     "data": {
      "text/plain": [
       "'cat'"
      ]
     },
     "execution_count": 27,
     "metadata": {},
     "output_type": "execute_result"
    }
   ],
   "source": [
    "test_image_2 = image.load_img('dataset/single_prediction/cat_or_dog_2.jpg', target_size=(64, 64))\n",
    "test_image_2 = image.img_to_array(test_image_2)\n",
    "test_image_2 = np.expand_dims(test_image_2, axis=0)\n",
    "results_2 = cnn.predict(test_image_2)\n",
    "\n",
    "if results_2 == 1:\n",
    "    prediction_2 = 'dog'\n",
    "else:\n",
    "    prediction_2 = 'cat'\n",
    "prediction_2"
   ]
  }
 ],
 "metadata": {
  "kernelspec": {
   "display_name": "Python 3",
   "language": "python",
   "name": "python3"
  },
  "language_info": {
   "codemirror_mode": {
    "name": "ipython",
    "version": 3
   },
   "file_extension": ".py",
   "mimetype": "text/x-python",
   "name": "python",
   "nbconvert_exporter": "python",
   "pygments_lexer": "ipython3",
   "version": "3.9.5"
  },
  "orig_nbformat": 4,
  "vscode": {
   "interpreter": {
    "hash": "a9960baf88259386db57c734c8604c8e4ab789688672644b3cf73fda24b112c6"
   }
  }
 },
 "nbformat": 4,
 "nbformat_minor": 2
}
